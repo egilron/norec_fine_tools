{
 "cells": [
  {
   "cell_type": "markdown",
   "metadata": {},
   "source": [
    "## Run spacy on the NorNE testset\n"
   ]
  },
  {
   "cell_type": "code",
   "execution_count": 4,
   "metadata": {},
   "outputs": [],
   "source": [
    "\n",
    "import re\n",
    "# from nltk.tokenize.simple import SpaceTokenizer\n",
    "from helpers import *\n",
    "\n",
    "import spacy\n",
    "from spacy.tokenizer import Tokenizer\n"
   ]
  },
  {
   "cell_type": "code",
   "execution_count": 5,
   "metadata": {},
   "outputs": [
    {
     "data": {
      "text/plain": [
       "['B-LOC',\n",
       " 'B-EVT',\n",
       " 'I-LOC',\n",
       " 'B-GPE_ORG',\n",
       " 'B-DRV',\n",
       " 'I-EVT',\n",
       " 'B-ORG',\n",
       " 'I-GPE_LOC',\n",
       " 'I-PER',\n",
       " 'I-DRV',\n",
       " 'I-PROD',\n",
       " 'O',\n",
       " 'B-PER',\n",
       " 'I-ORG',\n",
       " 'B-GPE_LOC',\n",
       " 'B-PROD',\n",
       " 'I-GPE_ORG']"
      ]
     },
     "execution_count": 5,
     "metadata": {},
     "output_type": "execute_result"
    }
   ],
   "source": [
    "testpath = \"data/norne2/no_bokmaal-ud-test.bmes\"\n",
    "test_tags  = dataset_w_tags(testpath, testpath)[2]\n",
    "test_tags"
   ]
  },
  {
   "cell_type": "code",
   "execution_count": 6,
   "metadata": {},
   "outputs": [
    {
     "data": {
      "text/plain": [
       "(['Det',\n",
       "  'nye',\n",
       "  'slagordet',\n",
       "  'er',\n",
       "  '\"',\n",
       "  'tilpasning',\n",
       "  'gjennom',\n",
       "  'kontrast',\n",
       "  '\"',\n",
       "  '.'],\n",
       " ['O', 'O', 'O', 'O', 'O', 'O', 'O', 'O', 'O', 'O'])"
      ]
     },
     "execution_count": 6,
     "metadata": {},
     "output_type": "execute_result"
    }
   ],
   "source": [
    "with open (testpath) as rf:\n",
    "    test_text = rf.read().strip()\n",
    "tokens, tags = [], [] # List of lists\n",
    "for sent in test_text.split(\"\\n\\n\"):\n",
    "    tokens.append([line.strip().split()[0] for line in sent.strip().split(\"\\n\")])\n",
    "    tags.append([line.strip().split()[1] for line in sent.strip().split(\"\\n\")])\n",
    "    assert len(tokens[-1]) == len(tags[-1])\n",
    "\n",
    "tokens[5], tags[5]"
   ]
  },
  {
   "cell_type": "code",
   "execution_count": 7,
   "metadata": {},
   "outputs": [
    {
     "data": {
      "text/plain": [
       "['B-ORG',\n",
       " 'O',\n",
       " 'O',\n",
       " 'O',\n",
       " 'O',\n",
       " 'O',\n",
       " 'O',\n",
       " 'O',\n",
       " 'O',\n",
       " 'O',\n",
       " 'O',\n",
       " 'O',\n",
       " 'O',\n",
       " 'O',\n",
       " 'O',\n",
       " 'O',\n",
       " 'O',\n",
       " 'O',\n",
       " 'O',\n",
       " 'O',\n",
       " 'O']"
      ]
     },
     "execution_count": 7,
     "metadata": {},
     "output_type": "execute_result"
    }
   ],
   "source": [
    "spacy_pred = []\n",
    "nlp = spacy.load(\"nb_core_news_lg\",\n",
    "                disable=[\n",
    "                \"tok2vec\",\n",
    "                \"morphologizer\",\n",
    "                \"parser\",\n",
    "                \"lemmatizer\",\n",
    "                \"attribute_ruler\"\n",
    "            ])\n",
    "nlp.tokenizer = Tokenizer(nlp.vocab, token_match=re.compile(r'\\S+').match)\n",
    "# With the above tokenizer, it should split on whitespace only\n",
    "for tks, tgs in zip(tokens, tags):\n",
    "    text = \" \".join(tks)\n",
    "    doc = nlp(text)\n",
    "    assert  len(doc) == len(tgs)\n",
    "    spacy_tgs = []\n",
    "    for t in doc:\n",
    "        bio_tag = t.ent_iob_\n",
    "        if t.ent_type_:\n",
    "            bio_tag += \"-\"+t.ent_type_\n",
    "        spacy_tgs.append(bio_tag)\n",
    "    spacy_pred.append(spacy_tgs)\n",
    "    \n",
    "spacy_pred[300]"
   ]
  },
  {
   "cell_type": "code",
   "execution_count": 8,
   "metadata": {},
   "outputs": [
    {
     "name": "stdout",
     "output_type": "stream",
     "text": [
      "Spacy {'B-LOC', 'B-EVT', 'I-LOC', 'B-GPE_ORG', 'B-DRV', 'B-ORG', 'I-GPE_LOC', 'I-PER', 'B-PROD', 'I-DRV', 'I-PROD', 'B-MISC', 'I-ORG', 'B-PER', 'B-GPE_LOC', 'O', 'I-GPE_ORG'}\n",
      "NorNE {'B-LOC', 'B-EVT', 'I-LOC', 'B-GPE_ORG', 'B-DRV', 'I-EVT', 'B-ORG', 'I-GPE_LOC', 'I-PER', 'I-DRV', 'I-PROD', 'O', 'B-PER', 'I-ORG', 'B-GPE_LOC', 'B-PROD', 'I-GPE_ORG'}\n",
      "Ent-token pred as ent 1742\n",
      "Ent-token pred as \"O\" 177\n",
      "\"O\"-token pred as ent 87\n",
      "Sentences 1939\n",
      "Tokens 29966\n"
     ]
    }
   ],
   "source": [
    "from collections import Counter\n",
    "def tagsset(tagslists):\n",
    "    return(set([t for tgs in tagslists for t in tgs]))\n",
    "\n",
    "print(\"Spacy\", tagsset(spacy_pred))\n",
    "print(\"NorNE\", tagsset(tags))\n",
    "gold_pred = Counter([g+\">\"+p for g_line, p_line in zip(tags, spacy_pred) for g, p in zip (g_line, p_line)])\n",
    "ent_ent, ent_o, o_ent = 0,0,0\n",
    "for key, value in gold_pred.items():\n",
    "    gold, pred = key.split(\">\")\n",
    "    gold_ent = gold != \"O\"\n",
    "    pred_ent = pred != \"O\"\n",
    "    if gold_ent and pred_ent:\n",
    "        ent_ent += value\n",
    "    if gold_ent and not pred_ent:\n",
    "        ent_o += value\n",
    "    if not gold_ent and pred_ent:\n",
    "        o_ent += value\n",
    "print(\"Ent-token pred as ent\", ent_ent)\n",
    "print ('Ent-token pred as \"O\"', ent_o)\n",
    "print('\"O\"-token pred as ent', o_ent) \n",
    "print(\"Sentences\", len(tokens))\n",
    "print(\"Tokens\", len([t for tks in tokens for t in tks]))"
   ]
  },
  {
   "cell_type": "code",
   "execution_count": 9,
   "metadata": {},
   "outputs": [
    {
     "data": {
      "text/plain": [
       "27960"
      ]
     },
     "execution_count": 9,
     "metadata": {},
     "output_type": "execute_result"
    }
   ],
   "source": [
    "gold_pred[\"O>O\"]"
   ]
  }
 ],
 "metadata": {
  "kernelspec": {
   "display_name": "Python 3.9.7 ('transform')",
   "language": "python",
   "name": "python3"
  },
  "language_info": {
   "codemirror_mode": {
    "name": "ipython",
    "version": 3
   },
   "file_extension": ".py",
   "mimetype": "text/x-python",
   "name": "python",
   "nbconvert_exporter": "python",
   "pygments_lexer": "ipython3",
   "version": "3.9.7"
  },
  "orig_nbformat": 4,
  "vscode": {
   "interpreter": {
    "hash": "63f766e18cf02043d406c2f113693a415f1494f09983f05ef5cfd3ee3ed0acbc"
   }
  }
 },
 "nbformat": 4,
 "nbformat_minor": 2
}
