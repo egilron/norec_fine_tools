{
 "metadata": {
  "language_info": {
   "codemirror_mode": {
    "name": "ipython",
    "version": 3
   },
   "file_extension": ".py",
   "mimetype": "text/x-python",
   "name": "python",
   "nbconvert_exporter": "python",
   "pygments_lexer": "ipython3",
   "version": "3.7.9-final"
  },
  "orig_nbformat": 2,
  "kernelspec": {
   "name": "python37964bitsimpletcondaa9e043320cae4e98a1b239d0bee7ff2a",
   "display_name": "Python 3.7.9 64-bit ('simplet': conda)",
   "language": "python"
  }
 },
 "nbformat": 4,
 "nbformat_minor": 2,
 "cells": [
  {
   "cell_type": "code",
   "execution_count": 1,
   "metadata": {},
   "outputs": [
    {
     "output_type": "stream",
     "name": "stdout",
     "text": [
      "Cuda: True\n"
     ]
    }
   ],
   "source": [
    "from simpletransformers.classification import ClassificationModel, ClassificationArgs\n",
    "import logging\n",
    "import torch\n",
    "import pandas as pd\n",
    "import pickle as pk\n",
    "import os\n",
    "import random\n",
    "import json\n",
    "import time, datetime\n",
    "random.seed(64)\n",
    "import re\n",
    "\n",
    "from helpers import *\n",
    "from keep_records import Keep_records\n",
    "\n",
    "print(f\"Cuda: {torch.cuda.is_available()}\")"
   ]
  },
  {
   "cell_type": "code",
   "execution_count": 2,
   "metadata": {},
   "outputs": [],
   "source": [
    "# Load the json to find the dice pips\n",
    "# Load the text files into a df\n",
    "datafolder = \"data/norec/\" # 'data' folder from norec github repo\n",
    "with open(datafolder+\"metadata.json\") as rf:\n",
    "    metadata = json.load(rf)\n",
    "df_splits = {}\n",
    "for split in ['train', 'dev', 'test']:\n",
    "    splitfolder = datafolder+split\n",
    "    filenames = os.listdir(splitfolder)\n",
    "    texts, scores = [], []\n",
    "    for filename in filenames:\n",
    "        with open (os.path.join(splitfolder, filename)) as rf:\n",
    "            texts.append(rf.read().strip())\n",
    "        scores.append(float(metadata[filename.split(\".\")[0]]['rating'])/6) #rating up tp 6\n",
    "    df_splits[split] = pd.DataFrame({'texts': texts, 'labels': scores})"
   ]
  },
  {
   "cell_type": "code",
   "execution_count": 3,
   "metadata": {},
   "outputs": [
    {
     "output_type": "stream",
     "name": "stdout",
     "text": [
      "train 34903\ndev 4360\ntest 4351\n"
     ]
    },
    {
     "output_type": "execute_result",
     "data": {
      "text/plain": [
       "[None, None, None]"
      ]
     },
     "metadata": {},
     "execution_count": 3
    }
   ],
   "source": [
    "[print(k, len(v)) for k,v in df_splits.items()]"
   ]
  },
  {
   "cell_type": "code",
   "execution_count": 4,
   "metadata": {},
   "outputs": [
    {
     "output_type": "stream",
     "name": "stderr",
     "text": [
      "Some weights of the model checkpoint at bert-base-multilingual-cased were not used when initializing BertForSequenceClassification: ['cls.predictions.bias', 'cls.predictions.transform.dense.weight', 'cls.predictions.transform.dense.bias', 'cls.predictions.decoder.weight', 'cls.seq_relationship.weight', 'cls.seq_relationship.bias', 'cls.predictions.transform.LayerNorm.weight', 'cls.predictions.transform.LayerNorm.bias']\n",
      "- This IS expected if you are initializing BertForSequenceClassification from the checkpoint of a model trained on another task or with another architecture (e.g. initializing a BertForSequenceClassification model from a BertForPretraining model).\n",
      "- This IS NOT expected if you are initializing BertForSequenceClassification from the checkpoint of a model that you expect to be exactly identical (initializing a BertForSequenceClassification model from a BertForSequenceClassification model).\n",
      "Some weights of BertForSequenceClassification were not initialized from the model checkpoint at bert-base-multilingual-cased and are newly initialized: ['classifier.weight', 'classifier.bias']\n",
      "You should probably TRAIN this model on a down-stream task to be able to use it for predictions and inference.\n"
     ]
    }
   ],
   "source": [
    "logging.basicConfig(level=logging.INFO)\n",
    "transformers_logger = logging.getLogger(\"transformers\")\n",
    "transformers_logger.setLevel(logging.WARNING)\n",
    "\n",
    "model_args = ClassificationArgs(sliding_window=True)\n",
    "model_args.num_train_epochs = 1\n",
    "model_args.regression = True\n",
    "model_args.overwrite_output_dir = True\n",
    "model_args.silent = True\n",
    "model = ClassificationModel(\n",
    "    \"bert\",\n",
    "    \"bert-base-multilingual-cased\",\n",
    "    num_labels=1,\n",
    "    args=model_args\n",
    ")"
   ]
  },
  {
   "cell_type": "code",
   "execution_count": 5,
   "metadata": {},
   "outputs": [
    {
     "output_type": "stream",
     "name": "stderr",
     "text": [
      "INFO:simpletransformers.classification.classification_model: Converting to features started. Cache is not used.\n",
      "INFO:simpletransformers.classification.classification_model: Sliding window enabled\n",
      "INFO:simpletransformers.classification.classification_model: 248500 features created from 34903 samples.\n",
      "INFO:simpletransformers.classification.classification_model: Training of bert model complete. Saved to outputs/simpletransformers/norec/.\n"
     ]
    }
   ],
   "source": [
    "out_d = \"outputs/simpletransformers/norec/\"\n",
    "model.train_model(df_splits['train'],\n",
    "        output_dir = out_d)"
   ]
  },
  {
   "cell_type": "code",
   "execution_count": 6,
   "metadata": {},
   "outputs": [
    {
     "output_type": "stream",
     "name": "stderr",
     "text": [
      "INFO:simpletransformers.classification.classification_model: Converting to features started. Cache is not used.\n",
      "INFO:simpletransformers.classification.classification_model: Sliding window enabled\n",
      "INFO:simpletransformers.classification.classification_model: 4360 features created from 4360 samples.\n",
      "INFO:simpletransformers.classification.classification_model:{'eval_loss': 0.025358992738838636}\n"
     ]
    }
   ],
   "source": [
    "result, model_outputs, wrong_predictions = model.eval_model(df_splits['dev'])"
   ]
  },
  {
   "cell_type": "code",
   "execution_count": 43,
   "metadata": {},
   "outputs": [
    {
     "output_type": "execute_result",
     "data": {
      "text/plain": [
       "Counter({0.8333333333333334: 1714,\n",
       "         0.5: 707,\n",
       "         0.6666666666666666: 1390,\n",
       "         0.3333333333333333: 243,\n",
       "         1.0: 270,\n",
       "         0.16666666666666666: 27})"
      ]
     },
     "metadata": {},
     "execution_count": 43
    }
   ],
   "source": [
    "from collections import Counter\n",
    "Counter(scores)"
   ]
  },
  {
   "cell_type": "code",
   "execution_count": 36,
   "metadata": {},
   "outputs": [
    {
     "output_type": "stream",
     "name": "stderr",
     "text": [
      "INFO:simpletransformers.classification.classification_model: Converting to features started. Cache is not used.\n",
      "INFO:simpletransformers.classification.classification_model: Sliding window enabled\n",
      "INFO:simpletransformers.classification.classification_model: 1 features created from 1 samples.\n",
      "[0]\n"
     ]
    }
   ],
   "source": [
    "\n",
    "predictions, raw_outputs = model.predict([df_splits[\"dev\"][\"texts\"].iloc[3]])\n",
    "print(predictions)"
   ]
  },
  {
   "cell_type": "code",
   "execution_count": 34,
   "metadata": {},
   "outputs": [
    {
     "output_type": "execute_result",
     "data": {
      "text/plain": [
       "\"Wayward Pines S01 E01-05\\nStarter med et smell, men det gode utgangspunktet smuldrer raskt bort. \\n\\nNavnet Wayward Pines antyder, i likhet med Twin Peaks, en liten og mystisk amerikansk småby. \\nDen sistnevnte kultserien har vært en åpenbar inspirasjon for produsent M. Night Shyamalan og de andre serieskaperne i arbeidet med førstnevnte. \\n\\nI sentrum for hendelsene i Wayward Pines er Matt Dillon i rollen som NSA-agenten Ethan Burke. \\nHan er sendt ut på hemmelig oppdrag for å lokalisere to savnede agenter. \\nEn brutral og plutselig kollisjon på reisen sender ham på sykehus, hvor han våkner alene og forvirret. \\n\\nEn lege insisterer på å utføre en hjerneoperasjon, men Burke kjemper seg fri og finner utenfor døren et samfunn hvor ingenting er slik det først utgir seg for å være; byen Wayward Pines. \\n\\nKopierer andre i stedet for å finne sin egenart \\n\\nInspirasjonskilden Twin Peaks er også en kjepphest – Wayward Pines er en serie som ikke etablerer en egen troverdig ramme rundt sine figurer og sin fortelling ved å desperat lene seg på etablerte konvensjoner. \\n\\nDet mest glorete eksempelet på dette er byen Wayward Pines' sheriff Arnold Pope, en sterkt karikert politimann spilt av Terrence Howard, som på insisterende vis spiser iskrem og krampeaktig påpeker hvor godt det er. \\nKaffekoppsammenligningen er åpenbar. \\n\\nResten av rollegalleriet føyer seg inn i kjedsommelige og velkjente stereotyper, som i møte med ekstreme omgivelser og situasjoner ikke finner sin plass. \\nFra den keitete tenåringssønnen og den gamle flammen, til de skremmende aktørene i småbyen. \\n\\nDillon spiller akseptabelt i rollen som en nedbrutt mann på fremmed land som må bygge seg opp mot umulige odds og i utrolige situasjoner. \\nEllers er det kun Carla Gugino i rollen som Kate Hewson, en av de savnede agentene, og Melissa Leo, i rollen som stedets dødelig dedikerte sykepleier, som tilfører serien den mystikken den desperat jakter på. \\n\\nNRK møtte M. Night Shyamalan: \\n— Jeg elsket den rare mørke humoren \\n\\nFølg reglene – eller ta konsekvensene \\n\\nFra starten er det tydelig, ingen forlater Wayward Pines. \\nReglene er enkle; ikke snakk om fortiden, ikke still spørsmål, og ta alltid telefonen når den ringer. \\n\\nPremisset er interessant og utgangspunktet godt, jeg er nysgjerrig på hva som lurer rundt neste sving. \\nOg takket være innholdstett og svært effektiv klipping tar Wayward Pines syvmilssteg i hver episode. \\nAvsløringene kommer som perler på en snor og i løpet av kort tid blir alle spørsmål jeg hadde i etter første episode besvart, men samtidig erstattet med flere nye. \\n\\nBest når den overrasker \\n\\nUforutsigbarheten i historien er uten tvil serien sitt sterkeste kort, glimtvis får vi se øyeblikkene som kunne løftet opplevelsen om de bare dukket oftere opp. \\n\\nMysteriene som var drivkraften i seriene Wayward Pines sammenligner seg med – som Lost, Top of the Lake, American Horror Story og tidligere nevnte Twin Peaks – får aldri tid til å sette seg før seriens fortelling har endret radikalt på utgangspunktet, noe som også gjør at flere av rollefigurene endrer sin atferd radikalt selv i løpet av en eneste episode. \\n\\nEtter femte episode henger jeg såvidt med. \\nIkke fordi serien er knallgod, men fordi jeg lurer på om historien om Ethan Burke vil ta flere himmelfalne vendinger. \\nDet er umulig å si om serien har nådd et toppunkt etter fem episoder – den kan stoppe helt opp, men jeg håper M. Night Shyamalan kjører toget helt av det oppsatte sporet og langt inn i villmarken. \\n\\nSerien har premiere på FOX kl. 2155 den 14. mai. \\n\\nDel dine meninger om «Wayward Pines» i kommentarfeltet under. \\n\\nLes om flere krimserier her:\""
      ]
     },
     "metadata": {},
     "execution_count": 34
    }
   ],
   "source": [
    "df_splits[\"dev\"][\"texts\"].iloc[2]\n"
   ]
  },
  {
   "source": [
    "## History\n",
    "First attempt\n",
    "Tried to do regression, but got only 0 out.\n",
    "```\n",
    "model_args = ClassificationArgs(sliding_window=True)\n",
    "model_args.num_train_epochs = 1\n",
    "model_args.regression = True\n",
    "model_args.overwrite_output_dir = True\n",
    "model_args.silent = True\n",
    "model = ClassificationModel(\n",
    "    \"bert\",\n",
    "    \"bert-base-multilingual-cased\",\n",
    "    num_labels=1,\n",
    "    args=model_args\n",
    ")\n",
    "```\n",
    "\n"
   ],
   "cell_type": "markdown",
   "metadata": {}
  }
 ]
}