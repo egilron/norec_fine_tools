{
 "metadata": {
  "language_info": {
   "codemirror_mode": {
    "name": "ipython",
    "version": 3
   },
   "file_extension": ".py",
   "mimetype": "text/x-python",
   "name": "python",
   "nbconvert_exporter": "python",
   "pygments_lexer": "ipython3",
   "version": "3.7.9-final"
  },
  "orig_nbformat": 2,
  "kernelspec": {
   "name": "python3",
   "display_name": "Python 3",
   "language": "python"
  }
 },
 "nbformat": 4,
 "nbformat_minor": 2,
 "cells": [
  {
   "source": [
    "### Spacy with neural coreference resolution\n",
    "Use the implementation from `https://github.com/tomasonjo/trinity-ie` \n",
    "\n",
    "- Grab my pre-existing translation of Norec-fine into English\n",
    "- Get the SpaCy pipeline and coref_resolution() from tomasonjo working\n",
    "- Save the results in a meaningful way, transfer it back from English to Norwegian\n",
    "- See how this can be used together with the wikifier\n"
   ],
   "cell_type": "markdown",
   "metadata": {}
  },
  {
   "source": [
    "## To resolve venv issues, the coref experiment is in `coref_demo.py` . \n",
    "Here, we only access the English translation of Norec_fine, and save the text documents that contain a certain string, which we look for in the coref resolution"
   ],
   "cell_type": "markdown",
   "metadata": {}
  },
  {
   "cell_type": "code",
   "execution_count": 12,
   "metadata": {
    "tags": []
   },
   "outputs": [
    {
     "output_type": "stream",
     "name": "stdout",
     "text": [
      "23\n"
     ]
    }
   ],
   "source": [
    "import os\n",
    "import json\n",
    "import pickle\n",
    "import pandas as pd\n",
    "\n",
    "\n",
    "source = \"data/final_no_en_complete.pdpk\"\n",
    "target_folder = \"data/norec_eng\"\n",
    "df = pd.read_pickle(source)\n",
    "files = [] # FIle id for desired texts\n",
    "for index, row in df[df.folder==\"train\"].iterrows():\n",
    "    if \"Mari\" in row.en_text and row.file_id not in files:\n",
    "        files.append(row.file_id)\n",
    "print(len(files))\n",
    "texts = {} # File_id: text for desired texts\n",
    "for file_nbr in files:\n",
    "    text = df[df.file_id == file_nbr].en_text\n",
    "    text = \" \".join(list(text))\n",
    "    with open (os.path.join(target_folder, file_nbr+\".txt\"), \"w\") as wf:\n",
    "        wf.write(text)\n",
    "\n"
   ]
  }
 ]
}